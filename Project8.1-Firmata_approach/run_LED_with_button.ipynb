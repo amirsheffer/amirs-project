{
 "cells": [
  {
   "cell_type": "code",
   "execution_count": 1,
   "metadata": {},
   "outputs": [],
   "source": [
    "import time\n",
    "from pymata4 import pymata4\n",
    "import threading\n",
    "import PySimpleGUI as sg"
   ]
  },
  {
   "cell_type": "code",
   "execution_count": 2,
   "metadata": {},
   "outputs": [],
   "source": [
    "LED_PIN = 4\n",
    "Button_pin=2\n",
    "timerTime = 5 # time in sec\n",
    "CB_VALUE = 2"
   ]
  },
  {
   "cell_type": "code",
   "execution_count": 3,
   "metadata": {},
   "outputs": [],
   "source": [
    "led_state = False\n",
    "button_state = False\n"
   ]
  },
  {
   "cell_type": "code",
   "execution_count": 4,
   "metadata": {},
   "outputs": [
    {
     "name": "stdout",
     "output_type": "stream",
     "text": [
      "pymata4:  Version 1.15\n",
      "\n",
      "Copyright (c) 2020 Alan Yorinks All Rights Reserved.\n",
      "\n",
      "Opening COM4...\n",
      "\n",
      "Waiting 4 seconds(arduino_wait) for Arduino devices to reset...\n"
     ]
    },
    {
     "ename": "RuntimeError",
     "evalue": "Invalid Arduino ID reply length",
     "output_type": "error",
     "traceback": [
      "\u001b[1;31m---------------------------------------------------------------------------\u001b[0m",
      "\u001b[1;31mRuntimeError\u001b[0m                              Traceback (most recent call last)",
      "Cell \u001b[1;32mIn[4], line 1\u001b[0m\n\u001b[1;32m----> 1\u001b[0m board \u001b[38;5;241m=\u001b[39m \u001b[43mpymata4\u001b[49m\u001b[38;5;241;43m.\u001b[39;49m\u001b[43mPymata4\u001b[49m\u001b[43m(\u001b[49m\u001b[43mcom_port\u001b[49m\u001b[43m \u001b[49m\u001b[38;5;241;43m=\u001b[39;49m\u001b[43m \u001b[49m\u001b[38;5;124;43m\"\u001b[39;49m\u001b[38;5;124;43mCOM4\u001b[39;49m\u001b[38;5;124;43m\"\u001b[39;49m\u001b[43m)\u001b[49m\n",
      "File \u001b[1;32mc:\\Users\\itclass15\\AppData\\Local\\anaconda3\\envs\\amir_env\\Lib\\site-packages\\pymata4\\pymata4.py:242\u001b[0m, in \u001b[0;36mPymata4.__init__\u001b[1;34m(self, com_port, baud_rate, arduino_instance_id, arduino_wait, sleep_tune, shutdown_on_exception, ip_address, ip_port)\u001b[0m\n\u001b[0;32m    239\u001b[0m \u001b[38;5;28;01melse\u001b[39;00m:\n\u001b[0;32m    240\u001b[0m     \u001b[38;5;66;03m# com_port specified - set com_port and baud rate\u001b[39;00m\n\u001b[0;32m    241\u001b[0m     \u001b[38;5;28;01mtry\u001b[39;00m:\n\u001b[1;32m--> 242\u001b[0m         \u001b[38;5;28;43mself\u001b[39;49m\u001b[38;5;241;43m.\u001b[39;49m\u001b[43m_manual_open\u001b[49m\u001b[43m(\u001b[49m\u001b[43m)\u001b[49m\n\u001b[0;32m    243\u001b[0m     \u001b[38;5;28;01mexcept\u001b[39;00m \u001b[38;5;167;01mKeyboardInterrupt\u001b[39;00m:\n\u001b[0;32m    244\u001b[0m         \u001b[38;5;28;01mif\u001b[39;00m \u001b[38;5;28mself\u001b[39m\u001b[38;5;241m.\u001b[39mshutdown_on_exception:\n",
      "File \u001b[1;32mc:\\Users\\itclass15\\AppData\\Local\\anaconda3\\envs\\amir_env\\Lib\\site-packages\\pymata4\\pymata4.py:434\u001b[0m, in \u001b[0;36mPymata4._manual_open\u001b[1;34m(self)\u001b[0m\n\u001b[0;32m    431\u001b[0m i_am_here \u001b[38;5;241m=\u001b[39m \u001b[38;5;28mlist\u001b[39m(i_am_here)\n\u001b[0;32m    433\u001b[0m \u001b[38;5;28;01mif\u001b[39;00m \u001b[38;5;28mlen\u001b[39m(i_am_here) \u001b[38;5;241m!=\u001b[39m \u001b[38;5;241m4\u001b[39m:\n\u001b[1;32m--> 434\u001b[0m     \u001b[38;5;28;01mraise\u001b[39;00m \u001b[38;5;167;01mRuntimeError\u001b[39;00m(\u001b[38;5;124m'\u001b[39m\u001b[38;5;124mInvalid Arduino ID reply length\u001b[39m\u001b[38;5;124m'\u001b[39m)\n\u001b[0;32m    436\u001b[0m \u001b[38;5;66;03m# check sysex command is I_AM_HERE\u001b[39;00m\n\u001b[0;32m    437\u001b[0m \u001b[38;5;28;01mif\u001b[39;00m i_am_here[\u001b[38;5;241m1\u001b[39m] \u001b[38;5;241m!=\u001b[39m PrivateConstants\u001b[38;5;241m.\u001b[39mI_AM_HERE:\n",
      "\u001b[1;31mRuntimeError\u001b[0m: Invalid Arduino ID reply length"
     ]
    }
   ],
   "source": [
    "board = pymata4.Pymata4(com_port = \"COM4\")"
   ]
  },
  {
   "cell_type": "code",
   "execution_count": null,
   "metadata": {},
   "outputs": [],
   "source": [
    "def LED_OFF():\n",
    "    global led_state\n",
    "    board.digital_write(LED_PIN, 0)  # Turn LED off\n",
    "    led_state = False\n",
    "\n",
    "\n",
    "\n",
    "def LED_ON(data):\n",
    "    global timerTime, led_state, button_state\n",
    "    button_state = data[CB_VALUE] == 1  # Update button state\n",
    "\n",
    "    if button_state:  # Button is pressed\n",
    "        print(\"Button pressed!\")\n",
    "        board.digital_write(LED_PIN, 1)  # Turn LED on\n",
    "        led_state = True\n",
    "        timer = threading.Timer(timerTime, LED_OFF)\n",
    "        timer.start()"
   ]
  },
  {
   "cell_type": "code",
   "execution_count": null,
   "metadata": {},
   "outputs": [],
   "source": [
    "def update_state():\n",
    "    global led_state, button_state\n",
    "    while True:\n",
    "        if led_state and button_state:\n",
    "            print('2')  # Both LED and button are on\n",
    "        elif led_state:\n",
    "            print('1')  # Only LED is on\n",
    "        elif button_state:\n",
    "            print('0')  # Button is pressed but LED is off\n",
    "        else:\n",
    "            print('0')  # Both are off\n",
    "        time.sleep(1)  # Print state every 1 second"
   ]
  },
  {
   "cell_type": "code",
   "execution_count": null,
   "metadata": {},
   "outputs": [],
   "source": [
    "def set_timer_time():\n",
    "    global timerTime\n",
    "    layout = [\n",
    "        [sg.Text(\"Enter Timer Duration (in seconds):\")],\n",
    "        [sg.InputText(default_text=str(timerTime))],\n",
    "        [sg.Button(\"Submit\"), sg.Button(\"Cancel\")]\n",
    "    ]\n",
    "\n",
    "    window = sg.Window(\"Set Timer Duration\", layout)\n",
    "\n",
    "    while True:\n",
    "        event, values = window.read()\n",
    "        if event == sg.WINDOW_CLOSED or event == \"Cancel\":\n",
    "            break\n",
    "        if event == \"Submit\":\n",
    "            try:\n",
    "                timerTime = int(values[0])\n",
    "                sg.popup(f\"Timer set to {timerTime} seconds.\")\n",
    "            except ValueError:\n",
    "                sg.popup(\"Please enter a valid number.\")\n",
    "    \n",
    "    window.close()"
   ]
  },
  {
   "cell_type": "code",
   "execution_count": null,
   "metadata": {},
   "outputs": [
    {
     "name": "stdout",
     "output_type": "stream",
     "text": [
      "0\n"
     ]
    }
   ],
   "source": [
    "\n",
    "# Start the state update thread\n",
    "state_thread = threading.Thread(target=update_state, daemon=True)\n",
    "state_thread.start()"
   ]
  },
  {
   "cell_type": "code",
   "execution_count": null,
   "metadata": {},
   "outputs": [],
   "source": [
    "board.set_pin_mode_digital_output(LED_PIN)\n",
    "board.set_pin_mode_digital_input(Button_pin,callback=LED_ON)\n",
    "set_timer_time()\n"
   ]
  },
  {
   "cell_type": "code",
   "execution_count": null,
   "metadata": {},
   "outputs": [],
   "source": []
  },
  {
   "cell_type": "code",
   "execution_count": null,
   "metadata": {},
   "outputs": [],
   "source": []
  }
 ],
 "metadata": {
  "kernelspec": {
   "display_name": "Python 3",
   "language": "python",
   "name": "python3"
  },
  "language_info": {
   "codemirror_mode": {
    "name": "ipython",
    "version": 3
   },
   "file_extension": ".py",
   "mimetype": "text/x-python",
   "name": "python",
   "nbconvert_exporter": "python",
   "pygments_lexer": "ipython3",
   "version": "3.11.9"
  }
 },
 "nbformat": 4,
 "nbformat_minor": 2
}
