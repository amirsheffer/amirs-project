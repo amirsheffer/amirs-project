{
 "cells": [
  {
   "cell_type": "code",
   "execution_count": null,
   "metadata": {},
   "outputs": [],
   "source": [
    "import time\n",
    "from pymata4 import pymata4\n",
    "import threading\n",
    "import PySimpleGUI as sg"
   ]
  },
  {
   "cell_type": "code",
   "execution_count": null,
   "metadata": {},
   "outputs": [],
   "source": [
    "LED_PIN = 4\n",
    "Button_pin=2\n",
    "timerTime = 5 # time in sec\n",
    "CB_VALUE = 2"
   ]
  },
  {
   "cell_type": "code",
   "execution_count": null,
   "metadata": {},
   "outputs": [],
   "source": [
    "led_state = False\n",
    "button_state = False\n"
   ]
  },
  {
   "cell_type": "code",
   "execution_count": null,
   "metadata": {},
   "outputs": [],
   "source": [
    "board = pymata4.Pymata4(com_port = \"COM4\")"
   ]
  },
  {
   "cell_type": "code",
   "execution_count": null,
   "metadata": {},
   "outputs": [],
   "source": [
    "def LED_OFF():\n",
    "    global led_state\n",
    "    board.digital_write(LED_PIN, 0)  # Turn LED off\n",
    "    led_state = False\n",
    "\n",
    "\n",
    "\n",
    "def LED_ON(data):\n",
    "    global timerTime, led_state, button_state\n",
    "    button_state = data[CB_VALUE] == 1  # Update button state\n",
    "\n",
    "    if button_state:  # Button is pressed\n",
    "        print(\"Button pressed!\")\n",
    "        board.digital_write(LED_PIN, 1)  # Turn LED on\n",
    "        led_state = True\n",
    "        timer = threading.Timer(timerTime, LED_OFF)\n",
    "        timer.start()"
   ]
  },
  {
   "cell_type": "code",
   "execution_count": null,
   "metadata": {},
   "outputs": [],
   "source": [
    "def update_state():\n",
    "    global led_state, button_state\n",
    "    while True:\n",
    "        if led_state and button_state:\n",
    "            print('2')  # Both LED and button are on\n",
    "        elif led_state:\n",
    "            print('1')  # Only LED is on\n",
    "        elif button_state:\n",
    "            print('0')  # Button is pressed but LED is off\n",
    "        else:\n",
    "            print('0')  # Both are off\n",
    "        time.sleep(1)  # Print state every 1 second"
   ]
  },
  {
   "cell_type": "code",
   "execution_count": null,
   "metadata": {},
   "outputs": [],
   "source": [
    "def set_timer_time():\n",
    "    global timerTime\n",
    "    layout = [\n",
    "        [sg.Text(\"Enter Timer Duration (in seconds):\")],\n",
    "        [sg.InputText(default_text=str(timerTime))],\n",
    "        [sg.Button(\"Submit\"), sg.Button(\"Cancel\")]\n",
    "    ]\n",
    "\n",
    "    window = sg.Window(\"Set Timer Duration\", layout)\n",
    "\n",
    "    while True:\n",
    "        event, values = window.read()\n",
    "        if event == sg.WINDOW_CLOSED or event == \"Cancel\":\n",
    "            break\n",
    "        if event == \"Submit\":\n",
    "            try:\n",
    "                timerTime = int(values[0])\n",
    "                sg.popup(f\"Timer set to {timerTime} seconds.\")\n",
    "            except ValueError:\n",
    "                sg.popup(\"Please enter a valid number.\")\n",
    "    \n",
    "    window.close()"
   ]
  },
  {
   "cell_type": "code",
   "execution_count": null,
   "metadata": {},
   "outputs": [
    {
     "name": "stdout",
     "output_type": "stream",
     "text": [
      "0\n",
      "0\n",
      "0\n",
      "0\n",
      "0\n",
      "0\n",
      "0\n",
      "0\n",
      "0\n",
      "0\n",
      "0\n",
      "0\n",
      "0\n",
      "0\n",
      "0\n",
      "0\n",
      "0\n",
      "0\n",
      "0\n",
      "0\n",
      "0\n",
      "0\n",
      "0\n",
      "0\n",
      "0\n",
      "0\n",
      "0\n",
      "0\n",
      "0\n"
     ]
    }
   ],
   "source": [
    "\n",
    "# Start the state update thread\n",
    "state_thread = threading.Thread(target=update_state, daemon=True)\n",
    "state_thread.start()"
   ]
  },
  {
   "cell_type": "code",
   "execution_count": null,
   "metadata": {},
   "outputs": [],
   "source": [
    "board.set_pin_mode_digital_output(LED_PIN)\n",
    "board.set_pin_mode_digital_input(Button_pin,callback=LED_ON)\n",
    "set_timer_time()\n"
   ]
  },
  {
   "cell_type": "code",
   "execution_count": null,
   "metadata": {},
   "outputs": [],
   "source": []
  },
  {
   "cell_type": "code",
   "execution_count": null,
   "metadata": {},
   "outputs": [],
   "source": []
  }
 ],
 "metadata": {
  "kernelspec": {
   "display_name": "Python 3",
   "language": "python",
   "name": "python3"
  },
  "language_info": {
   "codemirror_mode": {
    "name": "ipython",
    "version": 3
   },
   "file_extension": ".py",
   "mimetype": "text/x-python",
   "name": "python",
   "nbconvert_exporter": "python",
   "pygments_lexer": "ipython3",
   "version": "3.11.9"
  }
 },
 "nbformat": 4,
 "nbformat_minor": 2
}
