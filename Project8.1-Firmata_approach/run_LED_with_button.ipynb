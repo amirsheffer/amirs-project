{
 "cells": [
  {
   "cell_type": "code",
   "execution_count": 1,
   "metadata": {},
   "outputs": [],
   "source": [
    "import time\n",
    "from pymata4 import pymata4\n",
    "import threading"
   ]
  },
  {
   "cell_type": "code",
   "execution_count": 2,
   "metadata": {},
   "outputs": [],
   "source": [
    "LED_PIN = 4\n",
    "Button_pin=2\n",
    "timerTime = 5 # time in sec\n",
    "CB_VALUE = 2"
   ]
  },
  {
   "cell_type": "code",
   "execution_count": 3,
   "metadata": {},
   "outputs": [
    {
     "name": "stdout",
     "output_type": "stream",
     "text": [
      "pymata4:  Version 1.15\n",
      "\n",
      "Copyright (c) 2020 Alan Yorinks All Rights Reserved.\n",
      "\n",
      "Opening COM4...\n",
      "\n",
      "Waiting 4 seconds(arduino_wait) for Arduino devices to reset...\n",
      "Arduino compatible device found and connected to COM4\n",
      "\n",
      "Retrieving Arduino Firmware ID...\n",
      "Arduino Firmware ID: 1.2 FirmataExpress.ino\n",
      "\n",
      "Retrieving analog map...\n",
      "Auto-discovery complete. Found 20 Digital Pins and 6 Analog Pins\n",
      "\n",
      "\n"
     ]
    },
    {
     "name": "stdout",
     "output_type": "stream",
     "text": [
      "Button pressed!\n",
      "Button pressed!\n"
     ]
    }
   ],
   "source": [
    "board = pymata4.Pymata4(com_port = \"COM4\")"
   ]
  },
  {
   "cell_type": "code",
   "execution_count": 4,
   "metadata": {},
   "outputs": [],
   "source": [
    "def LED_OFF():\n",
    "       board.digital_write(LED_PIN, 0)  # Turn LED off\n",
    "\n",
    "\n",
    "\n",
    "def LED_ON(data):\n",
    "    \n",
    "        if  data[CB_VALUE] == 1:  # Button is pressed\n",
    "            print(\"Button pressed!\")\n",
    "            board.digital_write(LED_PIN, 1)  # Turn LED on\n",
    "            timer = threading.Timer(5.0, LED_OFF)\n",
    "            timer.start()\n",
    "           \n",
    "        time.sleep(0.1)  # Short delay to avoid busy waiting\n"
   ]
  },
  {
   "cell_type": "code",
   "execution_count": 5,
   "metadata": {},
   "outputs": [],
   "source": [
    "board.set_pin_mode_digital_output(LED_PIN)\n",
    "board.set_pin_mode_digital_input(Button_pin,callback=LED_ON)"
   ]
  }
 ],
 "metadata": {
  "kernelspec": {
   "display_name": "Python 3",
   "language": "python",
   "name": "python3"
  },
  "language_info": {
   "codemirror_mode": {
    "name": "ipython",
    "version": 3
   },
   "file_extension": ".py",
   "mimetype": "text/x-python",
   "name": "python",
   "nbconvert_exporter": "python",
   "pygments_lexer": "ipython3",
   "version": "3.11.9"
  }
 },
 "nbformat": 4,
 "nbformat_minor": 2
}
